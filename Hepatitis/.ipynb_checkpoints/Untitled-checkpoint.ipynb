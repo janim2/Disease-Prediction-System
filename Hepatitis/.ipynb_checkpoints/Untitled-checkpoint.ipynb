{
 "cells": [
  {
   "cell_type": "code",
   "execution_count": 3,
   "metadata": {},
   "outputs": [],
   "source": [
    "from ludwig import LudwigModel\n",
    "import pandas as pd\n",
    "from sklearn.model_selection import train_test_split"
   ]
  },
  {
   "cell_type": "code",
   "execution_count": 4,
   "metadata": {},
   "outputs": [],
   "source": [
    "df = pd.read_csv(\"/home/jesse/Documents/Machine Learning/Disease Prediction System/Datasets/hepatitis.csv\")"
   ]
  },
  {
   "cell_type": "code",
   "execution_count": 5,
   "metadata": {},
   "outputs": [],
   "source": [
    "x_train, y_train = train_test_split(df, test_size=0.3)"
   ]
  },
  {
   "cell_type": "code",
   "execution_count": 6,
   "metadata": {},
   "outputs": [
    {
     "name": "stdout",
     "output_type": "stream",
     "text": [
      "<class 'pandas.core.frame.DataFrame'>\n",
      "RangeIndex: 142 entries, 0 to 141\n",
      "Data columns (total 20 columns):\n",
      "class             142 non-null int64\n",
      "age               142 non-null int64\n",
      "sex               142 non-null int64\n",
      "steroid           142 non-null int64\n",
      "antivirals        142 non-null int64\n",
      "fatigue           142 non-null int64\n",
      "malaise           142 non-null int64\n",
      "anorexia          142 non-null int64\n",
      "liver_big         142 non-null int64\n",
      "liver_firm        142 non-null int64\n",
      "spleen_palable    142 non-null int64\n",
      "spiders           142 non-null int64\n",
      "ascites           142 non-null int64\n",
      "varices           142 non-null int64\n",
      "bilirubin         142 non-null float64\n",
      "alk_phosphate     142 non-null int64\n",
      "sgot              142 non-null int64\n",
      "albumin           142 non-null float64\n",
      "protime           142 non-null int64\n",
      "histology         142 non-null int64\n",
      "dtypes: float64(2), int64(18)\n",
      "memory usage: 22.3 KB\n"
     ]
    }
   ],
   "source": [
    "df.info()"
   ]
  },
  {
   "cell_type": "code",
   "execution_count": 36,
   "metadata": {},
   "outputs": [
    {
     "data": {
      "text/html": [
       "<div>\n",
       "<style scoped>\n",
       "    .dataframe tbody tr th:only-of-type {\n",
       "        vertical-align: middle;\n",
       "    }\n",
       "\n",
       "    .dataframe tbody tr th {\n",
       "        vertical-align: top;\n",
       "    }\n",
       "\n",
       "    .dataframe thead th {\n",
       "        text-align: right;\n",
       "    }\n",
       "</style>\n",
       "<table border=\"1\" class=\"dataframe\">\n",
       "  <thead>\n",
       "    <tr style=\"text-align: right;\">\n",
       "      <th></th>\n",
       "      <th>class</th>\n",
       "      <th>age</th>\n",
       "      <th>sex</th>\n",
       "      <th>steroid</th>\n",
       "      <th>antivirals</th>\n",
       "      <th>fatigue</th>\n",
       "      <th>malaise</th>\n",
       "      <th>anorexia</th>\n",
       "      <th>liver_big</th>\n",
       "      <th>liver_firm</th>\n",
       "      <th>spleen_palable</th>\n",
       "      <th>spiders</th>\n",
       "      <th>ascites</th>\n",
       "      <th>varices</th>\n",
       "      <th>bilirubin</th>\n",
       "      <th>alk_phosphate</th>\n",
       "      <th>sgot</th>\n",
       "      <th>albumin</th>\n",
       "      <th>protime</th>\n",
       "      <th>histology</th>\n",
       "    </tr>\n",
       "  </thead>\n",
       "  <tbody>\n",
       "    <tr>\n",
       "      <th>32</th>\n",
       "      <td>2</td>\n",
       "      <td>35</td>\n",
       "      <td>1</td>\n",
       "      <td>2</td>\n",
       "      <td>2</td>\n",
       "      <td>1</td>\n",
       "      <td>2</td>\n",
       "      <td>2</td>\n",
       "      <td>2</td>\n",
       "      <td>2</td>\n",
       "      <td>2</td>\n",
       "      <td>2</td>\n",
       "      <td>2</td>\n",
       "      <td>2</td>\n",
       "      <td>0.9</td>\n",
       "      <td>58</td>\n",
       "      <td>92</td>\n",
       "      <td>4.3</td>\n",
       "      <td>73</td>\n",
       "      <td>1</td>\n",
       "    </tr>\n",
       "    <tr>\n",
       "      <th>9</th>\n",
       "      <td>2</td>\n",
       "      <td>39</td>\n",
       "      <td>1</td>\n",
       "      <td>1</td>\n",
       "      <td>1</td>\n",
       "      <td>2</td>\n",
       "      <td>2</td>\n",
       "      <td>2</td>\n",
       "      <td>1</td>\n",
       "      <td>1</td>\n",
       "      <td>2</td>\n",
       "      <td>2</td>\n",
       "      <td>2</td>\n",
       "      <td>2</td>\n",
       "      <td>1.3</td>\n",
       "      <td>78</td>\n",
       "      <td>30</td>\n",
       "      <td>4.4</td>\n",
       "      <td>85</td>\n",
       "      <td>1</td>\n",
       "    </tr>\n",
       "    <tr>\n",
       "      <th>63</th>\n",
       "      <td>1</td>\n",
       "      <td>57</td>\n",
       "      <td>1</td>\n",
       "      <td>2</td>\n",
       "      <td>2</td>\n",
       "      <td>1</td>\n",
       "      <td>1</td>\n",
       "      <td>1</td>\n",
       "      <td>2</td>\n",
       "      <td>2</td>\n",
       "      <td>2</td>\n",
       "      <td>1</td>\n",
       "      <td>1</td>\n",
       "      <td>2</td>\n",
       "      <td>4.1</td>\n",
       "      <td>105</td>\n",
       "      <td>48</td>\n",
       "      <td>2.6</td>\n",
       "      <td>73</td>\n",
       "      <td>1</td>\n",
       "    </tr>\n",
       "    <tr>\n",
       "      <th>48</th>\n",
       "      <td>2</td>\n",
       "      <td>39</td>\n",
       "      <td>1</td>\n",
       "      <td>2</td>\n",
       "      <td>2</td>\n",
       "      <td>2</td>\n",
       "      <td>2</td>\n",
       "      <td>2</td>\n",
       "      <td>2</td>\n",
       "      <td>2</td>\n",
       "      <td>2</td>\n",
       "      <td>2</td>\n",
       "      <td>2</td>\n",
       "      <td>2</td>\n",
       "      <td>1.0</td>\n",
       "      <td>85</td>\n",
       "      <td>20</td>\n",
       "      <td>4.0</td>\n",
       "      <td>61</td>\n",
       "      <td>1</td>\n",
       "    </tr>\n",
       "    <tr>\n",
       "      <th>65</th>\n",
       "      <td>2</td>\n",
       "      <td>44</td>\n",
       "      <td>1</td>\n",
       "      <td>1</td>\n",
       "      <td>2</td>\n",
       "      <td>1</td>\n",
       "      <td>1</td>\n",
       "      <td>2</td>\n",
       "      <td>2</td>\n",
       "      <td>2</td>\n",
       "      <td>2</td>\n",
       "      <td>2</td>\n",
       "      <td>2</td>\n",
       "      <td>2</td>\n",
       "      <td>1.6</td>\n",
       "      <td>68</td>\n",
       "      <td>68</td>\n",
       "      <td>3.7</td>\n",
       "      <td>61</td>\n",
       "      <td>1</td>\n",
       "    </tr>\n",
       "  </tbody>\n",
       "</table>\n",
       "</div>"
      ],
      "text/plain": [
       "    class  age  sex  steroid  antivirals  fatigue  malaise  anorexia  \\\n",
       "32      2   35    1        2           2        1        2         2   \n",
       "9       2   39    1        1           1        2        2         2   \n",
       "63      1   57    1        2           2        1        1         1   \n",
       "48      2   39    1        2           2        2        2         2   \n",
       "65      2   44    1        1           2        1        1         2   \n",
       "\n",
       "    liver_big  liver_firm  spleen_palable  spiders  ascites  varices  \\\n",
       "32          2           2               2        2        2        2   \n",
       "9           1           1               2        2        2        2   \n",
       "63          2           2               2        1        1        2   \n",
       "48          2           2               2        2        2        2   \n",
       "65          2           2               2        2        2        2   \n",
       "\n",
       "    bilirubin  alk_phosphate  sgot  albumin  protime  histology  \n",
       "32        0.9             58    92      4.3       73          1  \n",
       "9         1.3             78    30      4.4       85          1  \n",
       "63        4.1            105    48      2.6       73          1  \n",
       "48        1.0             85    20      4.0       61          1  \n",
       "65        1.6             68    68      3.7       61          1  "
      ]
     },
     "execution_count": 36,
     "metadata": {},
     "output_type": "execute_result"
    }
   ],
   "source": [
    "y_train.tail()"
   ]
  },
  {
   "cell_type": "code",
   "execution_count": 9,
   "metadata": {},
   "outputs": [
    {
     "data": {
      "text/plain": [
       "(142, 20)"
      ]
     },
     "execution_count": 9,
     "metadata": {},
     "output_type": "execute_result"
    }
   ],
   "source": [
    "df.shape"
   ]
  },
  {
   "cell_type": "code",
   "execution_count": 10,
   "metadata": {},
   "outputs": [
    {
     "data": {
      "text/plain": [
       "(99, 20)"
      ]
     },
     "execution_count": 10,
     "metadata": {},
     "output_type": "execute_result"
    }
   ],
   "source": [
    "x_train.shape"
   ]
  },
  {
   "cell_type": "code",
   "execution_count": 11,
   "metadata": {},
   "outputs": [
    {
     "data": {
      "text/plain": [
       "(43, 20)"
      ]
     },
     "execution_count": 11,
     "metadata": {},
     "output_type": "execute_result"
    }
   ],
   "source": [
    "y_train.shape"
   ]
  },
  {
   "cell_type": "code",
   "execution_count": 8,
   "metadata": {},
   "outputs": [],
   "source": [
    "model_definition = {\n",
    "    'input_features':[\n",
    "        {'name':'age','type':'numerical'},\n",
    "        {'name':'steroid','type':'category'},\n",
    "        {'name':'antivirals','type':'category'},\n",
    "        {'name':'fatigue','type':'category'},\n",
    "        {'name':'malaise','type':'category'},\n",
    "        {'name':'anorexia','type':'category'},\n",
    "        {'name':'liver_big','type':'category'},\n",
    "        {'name':'liver_firm','type':'category'},\n",
    "        {'name':'spleen_palable','type':'category'},\n",
    "        {'name':'spiders','type':'category'},\n",
    "        {'name':'ascites','type':'category'},\n",
    "        {'name':'varices','type':'category'},\n",
    "        {'name':'bilirubin','type':'numerical'},\n",
    "        {'name':'alk_phosphate','type':'numerical'},\n",
    "        {'name':'sgot','type':'numerical'},\n",
    "        {'name':'albumin','type':'numerical'},\n",
    "        {'name':'protime','type':'numerical'},    \n",
    "    ],\n",
    "    'output_features':[\n",
    "        {'name':'histology','type':'category'}\n",
    "    ]\n",
    "}"
   ]
  },
  {
   "cell_type": "code",
   "execution_count": 10,
   "metadata": {},
   "outputs": [
    {
     "name": "stdout",
     "output_type": "stream",
     "text": [
      "Creating Model\n",
      "Training Model\n"
     ]
    },
    {
     "name": "stderr",
     "output_type": "stream",
     "text": [
      "/home/jesse/anaconda3/lib/python3.7/site-packages/ludwig/features/numerical_feature.py:63: FutureWarning: Method .as_matrix will be removed in a future version. Use .values instead.\n",
      "  np.float32).as_matrix()\n"
     ]
    }
   ],
   "source": [
    "print(\"Creating Model\")\n",
    "model = LudwigModel(model_definition)\n",
    "\n",
    "print(\"Training Model\")\n",
    "\n",
    "# for run_1 i used this\n",
    "# train_stats = model.train(data_df=df)\n",
    "\n",
    "train_stats = model.train(data_df=x_train)\n"
   ]
  },
  {
   "cell_type": "code",
   "execution_count": 33,
   "metadata": {},
   "outputs": [],
   "source": [
    "model = LudwigModel.load(\"/home/jesse/Documents/Machine Learning/Disease Prediction System/Hepatitis/results/_run_0/model\")"
   ]
  },
  {
   "cell_type": "code",
   "execution_count": 37,
   "metadata": {},
   "outputs": [
    {
     "name": "stdout",
     "output_type": "stream",
     "text": [
      "<class 'pandas.core.frame.DataFrame'>\n",
      "RangeIndex: 1 entries, 0 to 0\n",
      "Data columns (total 17 columns):\n",
      "age               1 non-null int64\n",
      "steroid           1 non-null int64\n",
      "antivirals        1 non-null int64\n",
      "fatigue           1 non-null int64\n",
      "malaise           1 non-null int64\n",
      "anorexia          1 non-null int64\n",
      "liver_big         1 non-null int64\n",
      "liver_firm        1 non-null int64\n",
      "spleen_palable    1 non-null int64\n",
      "spiders           1 non-null int64\n",
      "ascites           1 non-null int64\n",
      "varices           1 non-null int64\n",
      "bilirubin         1 non-null float64\n",
      "alk_phosphate     1 non-null int64\n",
      "sgot              1 non-null int64\n",
      "albumin           1 non-null float64\n",
      "protime           1 non-null int64\n",
      "dtypes: float64(2), int64(15)\n",
      "memory usage: 216.0 bytes\n"
     ]
    }
   ],
   "source": [
    "useForTest = pd.read_csv(\"/home/jesse/Documents/Machine Learning/Disease Prediction System/Deploment/hepatitis.csv\")\n",
    "useForTest.info()\n",
    "predictions = model.predict(useForTest)"
   ]
  },
  {
   "cell_type": "code",
   "execution_count": 39,
   "metadata": {},
   "outputs": [
    {
     "data": {
      "text/html": [
       "<div>\n",
       "<style scoped>\n",
       "    .dataframe tbody tr th:only-of-type {\n",
       "        vertical-align: middle;\n",
       "    }\n",
       "\n",
       "    .dataframe tbody tr th {\n",
       "        vertical-align: top;\n",
       "    }\n",
       "\n",
       "    .dataframe thead th {\n",
       "        text-align: right;\n",
       "    }\n",
       "</style>\n",
       "<table border=\"1\" class=\"dataframe\">\n",
       "  <thead>\n",
       "    <tr style=\"text-align: right;\">\n",
       "      <th></th>\n",
       "      <th>histology_predictions</th>\n",
       "      <th>histology_probabilities_&lt;UNK&gt;</th>\n",
       "      <th>histology_probabilities_2</th>\n",
       "      <th>histology_probabilities_1</th>\n",
       "      <th>histology_probability</th>\n",
       "    </tr>\n",
       "  </thead>\n",
       "  <tbody>\n",
       "    <tr>\n",
       "      <th>0</th>\n",
       "      <td>1</td>\n",
       "      <td>6.798663e-08</td>\n",
       "      <td>0.04293</td>\n",
       "      <td>0.957069</td>\n",
       "      <td>0.957069</td>\n",
       "    </tr>\n",
       "  </tbody>\n",
       "</table>\n",
       "</div>"
      ],
      "text/plain": [
       "  histology_predictions  histology_probabilities_<UNK>  \\\n",
       "0                     1                   6.798663e-08   \n",
       "\n",
       "   histology_probabilities_2  histology_probabilities_1  histology_probability  \n",
       "0                    0.04293                   0.957069               0.957069  "
      ]
     },
     "execution_count": 39,
     "metadata": {},
     "output_type": "execute_result"
    }
   ],
   "source": [
    "predictions.head()"
   ]
  },
  {
   "cell_type": "code",
   "execution_count": null,
   "metadata": {},
   "outputs": [],
   "source": []
  },
  {
   "cell_type": "code",
   "execution_count": null,
   "metadata": {},
   "outputs": [],
   "source": []
  }
 ],
 "metadata": {
  "kernelspec": {
   "display_name": "Python 3",
   "language": "python",
   "name": "python3"
  },
  "language_info": {
   "codemirror_mode": {
    "name": "ipython",
    "version": 3
   },
   "file_extension": ".py",
   "mimetype": "text/x-python",
   "name": "python",
   "nbconvert_exporter": "python",
   "pygments_lexer": "ipython3",
   "version": "3.7.1"
  }
 },
 "nbformat": 4,
 "nbformat_minor": 2
}
